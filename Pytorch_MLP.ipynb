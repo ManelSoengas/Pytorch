{
  "nbformat": 4,
  "nbformat_minor": 0,
  "metadata": {
    "colab": {
      "provenance": [],
      "authorship_tag": "ABX9TyP3E5HJE/2iKXouvRThDBuL",
      "include_colab_link": true
    },
    "kernelspec": {
      "name": "python3",
      "display_name": "Python 3"
    },
    "language_info": {
      "name": "python"
    }
  },
  "cells": [
    {
      "cell_type": "markdown",
      "metadata": {
        "id": "view-in-github",
        "colab_type": "text"
      },
      "source": [
        "<a href=\"https://colab.research.google.com/github/ManelSoengas/Pytorch/blob/main/Pytorch_MLP.ipynb\" target=\"_parent\"><img src=\"https://colab.research.google.com/assets/colab-badge.svg\" alt=\"Open In Colab\"/></a>"
      ]
    },
    {
      "cell_type": "markdown",
      "source": [
        "# **Treballan amb dades**\n",
        "\n",
        "---\n",
        "\n",
        "**torchvision** és una biblioteca complementària de PyTorch pensada per a treballar amb imatges. Conté eines per:\n",
        "\n",
        "1. Carregar datasets d’imatges reals.\n",
        "\n",
        "1. Fer transformacions (canvis de mida, rotacions, tensorització...).\n",
        "\n",
        "1. Carregar models preentrenats per a tasques com classificació o detecció d’objectes.\n",
        "\n",
        "També existeixen biblioteques semblants per a:\n",
        "\n",
        "1. torchtext → dades de text (NLP)\n",
        "\n",
        "1. torchaudio → dades d’àudio (parla, sons)\n",
        "\n",
        "**Què és torchvision.datasets?**\n",
        "\n",
        "El mòdul torchvision.datasets conté datasets preparats per a ús directe, com:\n",
        "\n",
        "**Dataset\t:**\n",
        "\n",
        "1. CIFAR10:\tImatges de 10 classes (cotxe, gos, avió...)\n",
        "1. COCO:\tImatges amb anotacions d’objectes\n",
        "1. FashionMNIST:\tRoba: sabates, samarretes, pantalons..."
      ],
      "metadata": {
        "id": "NIKm7P5vRLBo"
      }
    },
    {
      "cell_type": "code",
      "execution_count": 1,
      "metadata": {
        "id": "nYVdOSBeJxUt"
      },
      "outputs": [],
      "source": [
        "import torch\n",
        "from torch import nn\n",
        "from torch.utils.data import DataLoader\n",
        "from torchvision import datasets\n",
        "from torchvision.transforms import ToTensor"
      ]
    },
    {
      "cell_type": "code",
      "source": [
        "# Download training data from open datasets.\n",
        "training_data = datasets.FashionMNIST(\n",
        "    root=\"data\",\n",
        "    train=True,\n",
        "    download=True,\n",
        "    transform=ToTensor(),\n",
        ")\n",
        "\n",
        "# Download test data from open datasets.\n",
        "test_data = datasets.FashionMNIST(\n",
        "    root=\"data\",\n",
        "    train=False,\n",
        "    download=True,\n",
        "    transform=ToTensor(),\n",
        ")"
      ],
      "metadata": {
        "colab": {
          "base_uri": "https://localhost:8080/"
        },
        "id": "udmoDor3SAB5",
        "outputId": "a27dc7c2-efa7-4223-a8b7-203840d36650"
      },
      "execution_count": 2,
      "outputs": [
        {
          "output_type": "stream",
          "name": "stderr",
          "text": [
            "100%|██████████| 26.4M/26.4M [00:03<00:00, 7.81MB/s]\n",
            "100%|██████████| 29.5k/29.5k [00:00<00:00, 140kB/s]\n",
            "100%|██████████| 4.42M/4.42M [00:01<00:00, 2.45MB/s]\n",
            "100%|██████████| 5.15k/5.15k [00:00<00:00, 11.3MB/s]\n"
          ]
        }
      ]
    },
    {
      "cell_type": "markdown",
      "source": [
        "**DataLoader** és un wrapper (embolcall) que s'encarrega d'agafar un Dataset i transformar-lo en lots (batches) per entrenar o validar el model. És com un repartidor eficient de dades.\n",
        "\n",
        "**Funcions clau del DataLoader:**\n",
        "\n",
        "1. Iteració automàtica sobre el dataset\n",
        "\n",
        "1. Agrupació en batches (per entrenar en paral·lel)\n",
        "\n",
        "1. Mescla aleatòria de dades (shuffle)\n",
        "\n",
        "1. Càrrega paral·lela amb múltiples processos (num_workers)\n",
        "\n",
        "1. Mostratge personalitzat (amb sampler)\n",
        "\n",
        "\n",
        "```\n",
        "print(f\"Shape of X [N, C, H, W]: {X.shape}\")\n",
        "\n",
        "Mostra la forma del tensor X.\n",
        "\n",
        "X.shape serà una tupla com (64, 1, 28, 28) per FashionMNIST.\n",
        "\n",
        "N: nombre d'exemples al lot (batch size)\n",
        "\n",
        "C: canals (1 per imatges en blanc i negre)\n",
        "\n",
        "H, W: alçada i amplada (28x28 píxels)\n",
        "```\n",
        "\n"
      ],
      "metadata": {
        "id": "-GgWsIO8SUeu"
      }
    },
    {
      "cell_type": "code",
      "source": [
        "batch_size = 64\n",
        "\n",
        "# Create data loaders.\n",
        "train_dataloader = DataLoader(training_data, batch_size=batch_size)\n",
        "test_dataloader = DataLoader(test_data, batch_size=batch_size)\n",
        "\n",
        "for X, y in test_dataloader:\n",
        "    print(f\"Shape of X [N, C, H, W]: {X.shape}\")\n",
        "    print(f\"Shape of y: {y.shape} {y.dtype}\")\n",
        "    break"
      ],
      "metadata": {
        "colab": {
          "base_uri": "https://localhost:8080/"
        },
        "id": "-cbilJbQSir6",
        "outputId": "0f060f75-9f9a-4c36-dd94-622e6fa5161b"
      },
      "execution_count": 3,
      "outputs": [
        {
          "output_type": "stream",
          "name": "stdout",
          "text": [
            "Shape of X [N, C, H, W]: torch.Size([64, 1, 28, 28])\n",
            "Shape of y: torch.Size([64]) torch.int64\n"
          ]
        }
      ]
    },
    {
      "cell_type": "markdown",
      "source": [
        "# **Creació de models**\n",
        "\n",
        "---\n",
        "Com definir una xarxa neuronal en PyTorch i com optimitzar-la per al seu funcionament en diferents dispositius (CPU o GPU).\n",
        "\n",
        "\n"
      ],
      "metadata": {
        "id": "iG4em9irTHiQ"
      }
    },
    {
      "cell_type": "code",
      "source": [
        "device = torch.accelerator.current_accelerator().type if torch.accelerator.is_available() else \"cpu\"\n",
        "print(f\"Using {device} device\")\n",
        "\n",
        "# Define model\n",
        "class NeuralNetwork(nn.Module):\n",
        "    def __init__(self):\n",
        "        super().__init__()\n",
        "        self.flatten = nn.Flatten()\n",
        "        self.linear_relu_stack = nn.Sequential(\n",
        "            nn.Linear(28*28, 512),\n",
        "            nn.ReLU(),\n",
        "            nn.Linear(512, 512),\n",
        "            nn.ReLU(),\n",
        "            nn.Linear(512, 10)\n",
        "        )\n",
        "\n",
        "    def forward(self, x):\n",
        "        x = self.flatten(x)\n",
        "        logits = self.linear_relu_stack(x)\n",
        "        return logits\n",
        "\n",
        "model = NeuralNetwork().to(device)\n",
        "print(model)"
      ],
      "metadata": {
        "colab": {
          "base_uri": "https://localhost:8080/"
        },
        "id": "13x7TZBVTisZ",
        "outputId": "caad28d4-25ba-4dba-b7ee-3350c59329ad"
      },
      "execution_count": 4,
      "outputs": [
        {
          "output_type": "stream",
          "name": "stdout",
          "text": [
            "Using cpu device\n",
            "NeuralNetwork(\n",
            "  (flatten): Flatten(start_dim=1, end_dim=-1)\n",
            "  (linear_relu_stack): Sequential(\n",
            "    (0): Linear(in_features=784, out_features=512, bias=True)\n",
            "    (1): ReLU()\n",
            "    (2): Linear(in_features=512, out_features=512, bias=True)\n",
            "    (3): ReLU()\n",
            "    (4): Linear(in_features=512, out_features=10, bias=True)\n",
            "  )\n",
            ")\n"
          ]
        }
      ]
    },
    {
      "cell_type": "markdown",
      "source": [
        "# **Optimitzant el model**\n",
        "\n",
        "---\n",
        "\n"
      ],
      "metadata": {
        "id": "92EpginnUPKg"
      }
    },
    {
      "cell_type": "code",
      "source": [
        "loss_fn = nn.CrossEntropyLoss()\n",
        "optimizer = torch.optim.SGD(model.parameters(), lr=1e-3)"
      ],
      "metadata": {
        "id": "hx6lB9yhUVyJ"
      },
      "execution_count": 5,
      "outputs": []
    },
    {
      "cell_type": "code",
      "source": [
        "def train(dataloader, model, loss_fn, optimizer):\n",
        "    size = len(dataloader.dataset)\n",
        "    model.train()\n",
        "    for batch, (X, y) in enumerate(dataloader):\n",
        "        X, y = X.to(device), y.to(device)\n",
        "\n",
        "        # Compute prediction error\n",
        "        pred = model(X)\n",
        "        loss = loss_fn(pred, y)\n",
        "\n",
        "        # Backpropagation\n",
        "        loss.backward()\n",
        "        optimizer.step()\n",
        "        optimizer.zero_grad()\n",
        "\n",
        "        if batch % 100 == 0:\n",
        "            loss, current = loss.item(), (batch + 1) * len(X)\n",
        "            print(f\"loss: {loss:>7f}  [{current:>5d}/{size:>5d}]\")"
      ],
      "metadata": {
        "id": "cZy7_ObdUXjY"
      },
      "execution_count": 7,
      "outputs": []
    },
    {
      "cell_type": "code",
      "source": [
        "def test(dataloader, model, loss_fn):\n",
        "    size = len(dataloader.dataset)\n",
        "    num_batches = len(dataloader)\n",
        "    model.eval()\n",
        "    test_loss, correct = 0, 0\n",
        "    with torch.no_grad():\n",
        "        for X, y in dataloader:\n",
        "            X, y = X.to(device), y.to(device)\n",
        "            pred = model(X)\n",
        "            test_loss += loss_fn(pred, y).item()\n",
        "            correct += (pred.argmax(1) == y).type(torch.float).sum().item()\n",
        "    test_loss /= num_batches\n",
        "    correct /= size\n",
        "    print(f\"Test Error: \\n Accuracy: {(100*correct):>0.1f}%, Avg loss: {test_loss:>8f} \\n\")"
      ],
      "metadata": {
        "id": "-yx0w_u7UeGC"
      },
      "execution_count": 8,
      "outputs": []
    },
    {
      "cell_type": "code",
      "source": [
        "epochs = 5\n",
        "for t in range(epochs):\n",
        "    print(f\"Epoch {t+1}\\n-------------------------------\")\n",
        "    train(train_dataloader, model, loss_fn, optimizer)\n",
        "    test(test_dataloader, model, loss_fn)\n",
        "print(\"Done!\")"
      ],
      "metadata": {
        "colab": {
          "base_uri": "https://localhost:8080/"
        },
        "id": "3plqYhyzUllS",
        "outputId": "49d186ca-1929-4c9e-83c2-83dbb8621f56"
      },
      "execution_count": 9,
      "outputs": [
        {
          "output_type": "stream",
          "name": "stdout",
          "text": [
            "Epoch 1\n",
            "-------------------------------\n",
            "loss: 2.292857  [   64/60000]\n",
            "loss: 2.288896  [ 6464/60000]\n",
            "loss: 2.264583  [12864/60000]\n",
            "loss: 2.265701  [19264/60000]\n",
            "loss: 2.232326  [25664/60000]\n",
            "loss: 2.208551  [32064/60000]\n",
            "loss: 2.214118  [38464/60000]\n",
            "loss: 2.174933  [44864/60000]\n",
            "loss: 2.176874  [51264/60000]\n",
            "loss: 2.147728  [57664/60000]\n",
            "Test Error: \n",
            " Accuracy: 51.4%, Avg loss: 2.135032 \n",
            "\n",
            "Epoch 2\n",
            "-------------------------------\n",
            "loss: 2.140906  [   64/60000]\n",
            "loss: 2.137555  [ 6464/60000]\n",
            "loss: 2.074248  [12864/60000]\n",
            "loss: 2.103456  [19264/60000]\n",
            "loss: 2.031386  [25664/60000]\n",
            "loss: 1.979567  [32064/60000]\n",
            "loss: 2.007549  [38464/60000]\n",
            "loss: 1.920470  [44864/60000]\n",
            "loss: 1.931703  [51264/60000]\n",
            "loss: 1.872960  [57664/60000]\n",
            "Test Error: \n",
            " Accuracy: 58.1%, Avg loss: 1.855871 \n",
            "\n",
            "Epoch 3\n",
            "-------------------------------\n",
            "loss: 1.881663  [   64/60000]\n",
            "loss: 1.861124  [ 6464/60000]\n",
            "loss: 1.736813  [12864/60000]\n",
            "loss: 1.793527  [19264/60000]\n",
            "loss: 1.663408  [25664/60000]\n",
            "loss: 1.629219  [32064/60000]\n",
            "loss: 1.648482  [38464/60000]\n",
            "loss: 1.542869  [44864/60000]\n",
            "loss: 1.574926  [51264/60000]\n",
            "loss: 1.483723  [57664/60000]\n",
            "Test Error: \n",
            " Accuracy: 60.6%, Avg loss: 1.487574 \n",
            "\n",
            "Epoch 4\n",
            "-------------------------------\n",
            "loss: 1.551050  [   64/60000]\n",
            "loss: 1.524248  [ 6464/60000]\n",
            "loss: 1.368913  [12864/60000]\n",
            "loss: 1.450501  [19264/60000]\n",
            "loss: 1.319680  [25664/60000]\n",
            "loss: 1.326795  [32064/60000]\n",
            "loss: 1.337837  [38464/60000]\n",
            "loss: 1.258974  [44864/60000]\n",
            "loss: 1.300629  [51264/60000]\n",
            "loss: 1.210783  [57664/60000]\n",
            "Test Error: \n",
            " Accuracy: 63.1%, Avg loss: 1.230404 \n",
            "\n",
            "Epoch 5\n",
            "-------------------------------\n",
            "loss: 1.308473  [   64/60000]\n",
            "loss: 1.295271  [ 6464/60000]\n",
            "loss: 1.125805  [12864/60000]\n",
            "loss: 1.235767  [19264/60000]\n",
            "loss: 1.108276  [25664/60000]\n",
            "loss: 1.136317  [32064/60000]\n",
            "loss: 1.159306  [38464/60000]\n",
            "loss: 1.090025  [44864/60000]\n",
            "loss: 1.134704  [51264/60000]\n",
            "loss: 1.060689  [57664/60000]\n",
            "Test Error: \n",
            " Accuracy: 64.6%, Avg loss: 1.076855 \n",
            "\n",
            "Done!\n"
          ]
        }
      ]
    },
    {
      "cell_type": "markdown",
      "source": [
        "# **Guardant el model**\n",
        "\n",
        "---\n",
        "\n"
      ],
      "metadata": {
        "id": "NZ3po7usUyWb"
      }
    },
    {
      "cell_type": "code",
      "source": [
        "torch.save(model.state_dict(), \"/content/model.pth\")\n",
        "print(\"Saved PyTorch Model State to model.pth\")"
      ],
      "metadata": {
        "colab": {
          "base_uri": "https://localhost:8080/"
        },
        "id": "2h85MFrGU_QC",
        "outputId": "0c104506-2138-4528-81e9-97b5eb637e42"
      },
      "execution_count": 11,
      "outputs": [
        {
          "output_type": "stream",
          "name": "stdout",
          "text": [
            "Saved PyTorch Model State to model.pth\n"
          ]
        }
      ]
    },
    {
      "cell_type": "code",
      "source": [
        "model = NeuralNetwork().to(device)\n",
        "model.load_state_dict(torch.load(\"/content/model.pth\", weights_only=True))"
      ],
      "metadata": {
        "colab": {
          "base_uri": "https://localhost:8080/"
        },
        "id": "gu625MGsVJ9z",
        "outputId": "e651ba4a-354d-4348-ba09-eff0c1b26fbd"
      },
      "execution_count": 12,
      "outputs": [
        {
          "output_type": "execute_result",
          "data": {
            "text/plain": [
              "<All keys matched successfully>"
            ]
          },
          "metadata": {},
          "execution_count": 12
        }
      ]
    },
    {
      "cell_type": "code",
      "source": [
        "classes = [\n",
        "    \"T-shirt/top\",\n",
        "    \"Trouser\",\n",
        "    \"Pullover\",\n",
        "    \"Dress\",\n",
        "    \"Coat\",\n",
        "    \"Sandal\",\n",
        "    \"Shirt\",\n",
        "    \"Sneaker\",\n",
        "    \"Bag\",\n",
        "    \"Ankle boot\",\n",
        "]\n",
        "\n",
        "model.eval()\n",
        "x, y = test_data[0][0], test_data[0][1]\n",
        "with torch.no_grad():\n",
        "    x = x.to(device)\n",
        "    pred = model(x)\n",
        "    predicted, actual = classes[pred[0].argmax(0)], classes[y]\n",
        "    print(f'Predicted: \"{predicted}\", Actual: \"{actual}\"')"
      ],
      "metadata": {
        "colab": {
          "base_uri": "https://localhost:8080/"
        },
        "id": "cAhLQXarVSs7",
        "outputId": "c35e2d5a-293c-41fb-b93b-9abfc467ce1e"
      },
      "execution_count": 13,
      "outputs": [
        {
          "output_type": "stream",
          "name": "stdout",
          "text": [
            "Predicted: \"Ankle boot\", Actual: \"Ankle boot\"\n"
          ]
        }
      ]
    }
  ]
}