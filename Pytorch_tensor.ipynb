{
  "nbformat": 4,
  "nbformat_minor": 0,
  "metadata": {
    "colab": {
      "provenance": [],
      "authorship_tag": "ABX9TyPivzflav3XyyGt6qh6dFCM",
      "include_colab_link": true
    },
    "kernelspec": {
      "name": "python3",
      "display_name": "Python 3"
    },
    "language_info": {
      "name": "python"
    }
  },
  "cells": [
    {
      "cell_type": "markdown",
      "metadata": {
        "id": "view-in-github",
        "colab_type": "text"
      },
      "source": [
        "<a href=\"https://colab.research.google.com/github/ManelSoengas/Pytorch/blob/main/Pytorch_tensor.ipynb\" target=\"_parent\"><img src=\"https://colab.research.google.com/assets/colab-badge.svg\" alt=\"Open In Colab\"/></a>"
      ]
    },
    {
      "cell_type": "markdown",
      "source": [
        "# **Tensor**\n",
        "\n",
        "---\n",
        "\n",
        "Un tensor és una estructura matemàtica que generalitza els escalars, vectors i matrius a dimensions més altes. En el context de la programació i la intel·ligència artificial (especialment en biblioteques com TensorFlow o PyTorch), un tensor és essencialment una taula multidimensional de dades numèriques."
      ],
      "metadata": {
        "id": "cwwHr56LC9Je"
      }
    },
    {
      "cell_type": "code",
      "execution_count": 1,
      "metadata": {
        "id": "OlroIngpCuQu"
      },
      "outputs": [],
      "source": [
        "import torch\n",
        "import numpy as np"
      ]
    },
    {
      "cell_type": "markdown",
      "source": [
        "**Inicialitzant un tensor**"
      ],
      "metadata": {
        "id": "ugE6oseVDO-M"
      }
    },
    {
      "cell_type": "code",
      "source": [
        "data = [[1, 2],[3, 4]]\n",
        "x_data = torch.tensor(data)\n",
        "data"
      ],
      "metadata": {
        "colab": {
          "base_uri": "https://localhost:8080/"
        },
        "id": "WgO88EDzDMTR",
        "outputId": "768359cb-cdd4-4c7a-fbb6-e8b77799106c"
      },
      "execution_count": 3,
      "outputs": [
        {
          "output_type": "execute_result",
          "data": {
            "text/plain": [
              "[[1, 2], [3, 4]]"
            ]
          },
          "metadata": {},
          "execution_count": 3
        }
      ]
    },
    {
      "cell_type": "markdown",
      "source": [
        "**Des de Numpy array**"
      ],
      "metadata": {
        "id": "m_EAfsMpDll9"
      }
    },
    {
      "cell_type": "code",
      "source": [
        "np_array = np.array(data)\n",
        "x_np = torch.from_numpy(np_array)\n",
        "x_np"
      ],
      "metadata": {
        "colab": {
          "base_uri": "https://localhost:8080/"
        },
        "id": "hAZ_bBrMDqpU",
        "outputId": "07203a8d-b747-4b7b-ffa1-b6aaae0c8a17"
      },
      "execution_count": 4,
      "outputs": [
        {
          "output_type": "execute_result",
          "data": {
            "text/plain": [
              "tensor([[1, 2],\n",
              "        [3, 4]])"
            ]
          },
          "metadata": {},
          "execution_count": 4
        }
      ]
    },
    {
      "cell_type": "markdown",
      "source": [
        "**Des d'un altre tensor**"
      ],
      "metadata": {
        "id": "GZLPjA2iEMQJ"
      }
    },
    {
      "cell_type": "code",
      "source": [
        "x_ones = torch.ones_like(x_data)\n",
        "print(f\"Ones Tensor: \\n {x_ones} \\n\")\n",
        "\n",
        "x_rand = torch.rand_like(x_data, dtype=torch.float)\n",
        "print(f\"Random Tensor: \\n {x_rand} \\n\")"
      ],
      "metadata": {
        "colab": {
          "base_uri": "https://localhost:8080/"
        },
        "id": "hROwi-AgEQvM",
        "outputId": "b0b97801-8d3b-41a2-e4b7-2c1f76d8846e"
      },
      "execution_count": 8,
      "outputs": [
        {
          "output_type": "stream",
          "name": "stdout",
          "text": [
            "Ones Tensor: \n",
            " tensor([[1, 1],\n",
            "        [1, 1]]) \n",
            "\n",
            "Random Tensor: \n",
            " tensor([[0.6798, 0.2906],\n",
            "        [0.7776, 0.9287]]) \n",
            "\n"
          ]
        }
      ]
    },
    {
      "cell_type": "markdown",
      "source": [
        "**Omplir un tensor amb random valors i nombres**"
      ],
      "metadata": {
        "id": "PaE490UKE0lM"
      }
    },
    {
      "cell_type": "code",
      "source": [
        "shape = (2,3,)\n",
        "rand_tensor = torch.rand(shape)\n",
        "ones_tensor = torch.ones(shape)\n",
        "zeros_tensor = torch.zeros(shape)\n",
        "\n",
        "print(f\"Random Tensor: \\n {rand_tensor} \\n\")\n",
        "print(f\"Ones Tensor: \\n {ones_tensor} \\n\")\n",
        "print(f\"Zeros Tensor: \\n {zeros_tensor}\")"
      ],
      "metadata": {
        "colab": {
          "base_uri": "https://localhost:8080/"
        },
        "id": "ez34f5xlE9Bh",
        "outputId": "7c7b2aa6-4f6b-4029-d2a7-b64c86b03eea"
      },
      "execution_count": 9,
      "outputs": [
        {
          "output_type": "stream",
          "name": "stdout",
          "text": [
            "Random Tensor: \n",
            " tensor([[0.7522, 0.4031, 0.2475],\n",
            "        [0.2223, 0.0070, 0.1665]]) \n",
            "\n",
            "Ones Tensor: \n",
            " tensor([[1., 1., 1.],\n",
            "        [1., 1., 1.]]) \n",
            "\n",
            "Zeros Tensor: \n",
            " tensor([[0., 0., 0.],\n",
            "        [0., 0., 0.]])\n"
          ]
        }
      ]
    },
    {
      "cell_type": "markdown",
      "source": [
        "**Atributs d'un tensor**"
      ],
      "metadata": {
        "id": "WcjgQ45KFE7X"
      }
    },
    {
      "cell_type": "code",
      "source": [
        "tensor = torch.rand(3,4)\n",
        "print(f\"Shape of tensor: {tensor.shape}\")\n",
        "print(f\"Datatype of tensor: {tensor.dtype}\")\n",
        "print(f\"Device tensor is stored on: {tensor.device}\")"
      ],
      "metadata": {
        "colab": {
          "base_uri": "https://localhost:8080/"
        },
        "id": "_AzOU37MFKZ2",
        "outputId": "ba058f49-a9e8-402a-babb-a6ca2b2b2963"
      },
      "execution_count": 10,
      "outputs": [
        {
          "output_type": "stream",
          "name": "stdout",
          "text": [
            "Shape of tensor: torch.Size([3, 4])\n",
            "Datatype of tensor: torch.float32\n",
            "Device tensor is stored on: cpu\n"
          ]
        }
      ]
    },
    {
      "cell_type": "code",
      "source": [
        "tensor"
      ],
      "metadata": {
        "colab": {
          "base_uri": "https://localhost:8080/"
        },
        "id": "kYbT6FLtFUEs",
        "outputId": "25a45c2a-d9cd-4468-e50e-450bb8873823"
      },
      "execution_count": 11,
      "outputs": [
        {
          "output_type": "execute_result",
          "data": {
            "text/plain": [
              "tensor([[0.6001, 0.6194, 0.4541, 0.6782],\n",
              "        [0.4715, 0.0519, 0.5202, 0.8812],\n",
              "        [0.7958, 0.7724, 0.6806, 0.9209]])"
            ]
          },
          "metadata": {},
          "execution_count": 11
        }
      ]
    },
    {
      "cell_type": "markdown",
      "source": [
        "**Operacions amb tensors**"
      ],
      "metadata": {
        "id": "GRKmcXG9FeHY"
      }
    },
    {
      "cell_type": "code",
      "source": [
        "# We move our tensor to the GPU if available\n",
        "if torch.cuda.is_available():\n",
        "  tensor = tensor.to('cuda')"
      ],
      "metadata": {
        "id": "GjfLg143FhhJ"
      },
      "execution_count": 12,
      "outputs": []
    },
    {
      "cell_type": "markdown",
      "source": [
        "**Indexació i tall estàndard de tipus numpy:**"
      ],
      "metadata": {
        "id": "a3QzG8f7F8Mk"
      }
    },
    {
      "cell_type": "code",
      "source": [
        "tensor = torch.ones(5, 5)\n",
        "print('First row: ',tensor[0])\n",
        "print('First column: ', tensor[:, 0])\n",
        "print('Last column:', tensor[..., -11])\n",
        "tensor[:,2] = 0\n",
        "print(tensor)"
      ],
      "metadata": {
        "colab": {
          "base_uri": "https://localhost:8080/"
        },
        "id": "Tssx6wV9FmWH",
        "outputId": "db8679d5-681d-4b04-8f12-87a7e53b1d05"
      },
      "execution_count": 15,
      "outputs": [
        {
          "output_type": "stream",
          "name": "stdout",
          "text": [
            "First row:  tensor([1., 1., 1., 1., 1.])\n",
            "First column:  tensor([1., 1., 1., 1., 1.])\n",
            "Last column: tensor([1., 1., 1., 1., 1.])\n",
            "tensor([[1., 1., 0., 1., 1.],\n",
            "        [1., 1., 0., 1., 1.],\n",
            "        [1., 1., 0., 1., 1.],\n",
            "        [1., 1., 0., 1., 1.],\n",
            "        [1., 1., 0., 1., 1.]])\n"
          ]
        }
      ]
    },
    {
      "cell_type": "markdown",
      "source": [
        "**Unint tensors**"
      ],
      "metadata": {
        "id": "oisCtQNEGUSy"
      }
    },
    {
      "cell_type": "code",
      "source": [
        "t1 = torch.cat([tensor, tensor, tensor], dim=1)\n",
        "print(t1)"
      ],
      "metadata": {
        "colab": {
          "base_uri": "https://localhost:8080/"
        },
        "id": "GVaCVZpAGfqC",
        "outputId": "1bd301e6-7fe5-4ae1-ca4b-c38b4fc271b1"
      },
      "execution_count": 17,
      "outputs": [
        {
          "output_type": "stream",
          "name": "stdout",
          "text": [
            "tensor([[1., 1., 0., 1., 1., 1., 1., 0., 1., 1., 1., 1., 0., 1., 1.],\n",
            "        [1., 1., 0., 1., 1., 1., 1., 0., 1., 1., 1., 1., 0., 1., 1.],\n",
            "        [1., 1., 0., 1., 1., 1., 1., 0., 1., 1., 1., 1., 0., 1., 1.],\n",
            "        [1., 1., 0., 1., 1., 1., 1., 0., 1., 1., 1., 1., 0., 1., 1.],\n",
            "        [1., 1., 0., 1., 1., 1., 1., 0., 1., 1., 1., 1., 0., 1., 1.]])\n"
          ]
        }
      ]
    },
    {
      "cell_type": "markdown",
      "source": [
        "**Operacions Aritmètiques**"
      ],
      "metadata": {
        "id": "hEaQULBLG61Y"
      }
    },
    {
      "cell_type": "code",
      "source": [
        "# @ és un operador que fa producte matricial (dot product) entre tensor i la seva transposada tensor.T.\n",
        "# Si tensor és de forma (2, 2), tensor.T també serà (2, 2), així que y1 serà també (2, 2).\n",
        "# funció explícita matmul() en lloc del símbol @\n",
        "\n",
        "y1 = tensor @ tensor.T\n",
        "y2 = tensor.matmul(tensor.T)\n",
        "\n",
        "y3 = torch.rand_like(tensor)\n",
        "torch.matmul(tensor, tensor.T, out=y3)\n",
        "\n",
        "\n",
        "# This computes the element-wise product. z1, z2, z3 will have the same value\n",
        "z1 = tensor * tensor\n",
        "z2 = tensor.mul(tensor)\n",
        "\n",
        "z3 = torch.rand_like(tensor)\n",
        "torch.mul(tensor, tensor, out=z3)"
      ],
      "metadata": {
        "colab": {
          "base_uri": "https://localhost:8080/"
        },
        "id": "KWHtjO3SG_I3",
        "outputId": "934f88c0-bd25-445a-fa36-5c52504c9ebf"
      },
      "execution_count": 18,
      "outputs": [
        {
          "output_type": "execute_result",
          "data": {
            "text/plain": [
              "tensor([[1., 1., 0., 1., 1.],\n",
              "        [1., 1., 0., 1., 1.],\n",
              "        [1., 1., 0., 1., 1.],\n",
              "        [1., 1., 0., 1., 1.],\n",
              "        [1., 1., 0., 1., 1.]])"
            ]
          },
          "metadata": {},
          "execution_count": 18
        }
      ]
    },
    {
      "cell_type": "code",
      "source": [
        "y3"
      ],
      "metadata": {
        "colab": {
          "base_uri": "https://localhost:8080/"
        },
        "id": "Gzga2noVICqc",
        "outputId": "44d10a33-a7ee-4595-fea6-29de9d964bb7"
      },
      "execution_count": 19,
      "outputs": [
        {
          "output_type": "execute_result",
          "data": {
            "text/plain": [
              "tensor([[4., 4., 4., 4., 4.],\n",
              "        [4., 4., 4., 4., 4.],\n",
              "        [4., 4., 4., 4., 4.],\n",
              "        [4., 4., 4., 4., 4.],\n",
              "        [4., 4., 4., 4., 4.]])"
            ]
          },
          "metadata": {},
          "execution_count": 19
        }
      ]
    },
    {
      "cell_type": "code",
      "source": [
        "tensor"
      ],
      "metadata": {
        "colab": {
          "base_uri": "https://localhost:8080/"
        },
        "id": "x005SAlmI-5M",
        "outputId": "34c7b89c-21b2-439c-e477-04565964b544"
      },
      "execution_count": 20,
      "outputs": [
        {
          "output_type": "execute_result",
          "data": {
            "text/plain": [
              "tensor([[1., 1., 0., 1., 1.],\n",
              "        [1., 1., 0., 1., 1.],\n",
              "        [1., 1., 0., 1., 1.],\n",
              "        [1., 1., 0., 1., 1.],\n",
              "        [1., 1., 0., 1., 1.]])"
            ]
          },
          "metadata": {},
          "execution_count": 20
        }
      ]
    },
    {
      "cell_type": "markdown",
      "source": [
        "**Elements simples d'un tensor**"
      ],
      "metadata": {
        "id": "cumt1qYWJeJV"
      }
    },
    {
      "cell_type": "code",
      "source": [
        "agg = tensor.sum()\n",
        "agg_item = agg.item()\n",
        "print(agg_item, type(agg_item))"
      ],
      "metadata": {
        "colab": {
          "base_uri": "https://localhost:8080/"
        },
        "id": "e1n_WHDfJKN2",
        "outputId": "6766b9b3-76ca-4953-fa5d-626b6d16659a"
      },
      "execution_count": 21,
      "outputs": [
        {
          "output_type": "stream",
          "name": "stdout",
          "text": [
            "20.0 <class 'float'>\n"
          ]
        }
      ]
    },
    {
      "cell_type": "code",
      "source": [
        "print(tensor, \"\\n\")\n",
        "tensor.add_(5)\n",
        "print(tensor)"
      ],
      "metadata": {
        "colab": {
          "base_uri": "https://localhost:8080/"
        },
        "id": "z6EDwzDeJWSk",
        "outputId": "eb38f33e-5bbf-4662-8613-c8b2cf5b012b"
      },
      "execution_count": 22,
      "outputs": [
        {
          "output_type": "stream",
          "name": "stdout",
          "text": [
            "tensor([[1., 1., 0., 1., 1.],\n",
            "        [1., 1., 0., 1., 1.],\n",
            "        [1., 1., 0., 1., 1.],\n",
            "        [1., 1., 0., 1., 1.],\n",
            "        [1., 1., 0., 1., 1.]]) \n",
            "\n",
            "tensor([[6., 6., 5., 6., 6.],\n",
            "        [6., 6., 5., 6., 6.],\n",
            "        [6., 6., 5., 6., 6.],\n",
            "        [6., 6., 5., 6., 6.],\n",
            "        [6., 6., 5., 6., 6.]])\n"
          ]
        }
      ]
    }
  ]
}